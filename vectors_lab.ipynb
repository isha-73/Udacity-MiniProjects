{
  "cells": [
    {
      "cell_type": "markdown",
      "metadata": {
        "id": "view-in-github",
        "colab_type": "text"
      },
      "source": [
        "<a href=\"https://colab.research.google.com/github/isha-73/Udacity-MiniProjects/blob/main/vectors_lab.ipynb\" target=\"_parent\"><img src=\"https://colab.research.google.com/assets/colab-badge.svg\" alt=\"Open In Colab\"/></a>"
      ]
    },
    {
      "cell_type": "markdown",
      "metadata": {
        "collapsed": true,
        "id": "zoFseve0yxfh"
      },
      "source": [
        "# Vectors Lab\n",
        "\n",
        "In this notebook you will learn how to graph two dimensional (2D) vectors and certain vector computations.\n",
        "\n",
        "Specifically:\n",
        "1. Plotting a 2D vector\n",
        "2. Multiplying a 2D vector by a scalar and plotting the results\n",
        "3. Adding two 2D vectors together and plotting the results\n",
        "\n",
        "  \n",
        "For this lab, we will be using the python package [NumPy](http://www.numpy.org/) for creating vectors and computing vector operations. For the graphing aspects of the lab, we will be using python package [Matplotlib](https://matplotlib.org/index.html).\n"
      ]
    },
    {
      "cell_type": "markdown",
      "metadata": {
        "id": "qc8u1cD-yxfl"
      },
      "source": [
        "## Plotting a Vector in 2D\n",
        "For this part of the lab, we will plot the vector $\\vec{v}$ defined below.\n",
        "   \n",
        "$\\hspace{1cm}\\vec{v} = \\begin{bmatrix} 1\\\\ 1\\end{bmatrix}$\n",
        "\n",
        "Below is an outline that describes what is included in the Python code to plot vector $\\vec{v}$.\n",
        "1. Make both NumPy and Matlibplot python packages available using the _import_ method   \n",
        "&nbsp;  \n",
        "2. Define vector $\\vec{v}$    \n",
        "&nbsp;    \n",
        "3. Plot vector $\\vec{v}$ using Matlibplot  \n",
        "    1. Create a variable *__ax__* to reference the axes of the plot\n",
        "    2. Plot the origin as a red dot at point 0,0 using *__ax__* and _plot_ method\n",
        "    3. Plot vector $\\vec{v}$ as a blue arrow with origin at 0,0 using *__ax__* and _arrow_ method\n",
        "    4. Format x-axis\n",
        "        1. Set limits using _xlim_ method\n",
        "        2. Set major tick marks using *__ax__* and *set_xticks* method\n",
        "    5. Format y-axis\n",
        "        1. Set limits using _ylim_ method\n",
        "        2. Set major tick marks using *__ax__* and *set_yticks* method  \n",
        "    6. Create the gridlines using _grid_ method  \n",
        "    7. Display the plot using _show_ method"
      ]
    },
    {
      "cell_type": "code",
      "execution_count": 22,
      "metadata": {
        "colab": {
          "base_uri": "https://localhost:8080/",
          "height": 435
        },
        "id": "LVf0_LBMyxfm",
        "outputId": "0dfd755f-6bd0-45d9-ca45-ef1255835a2c"
      },
      "outputs": [
        {
          "output_type": "display_data",
          "data": {
            "text/plain": [
              "<Figure size 640x480 with 1 Axes>"
            ],
            "image/png": "[encoded data removed]"
          },
          "metadata": {}
        }
      ],
      "source": [
        "# Import NumPy and Matplotlib\n",
        "%matplotlib inline\n",
        "import numpy as np\n",
        "import matplotlib.pyplot as plt\n",
        "\n",
        "# Define vector v\n",
        "v = np.array([1,1])\n",
        "\n",
        "# Plots vector v as blue arrow with red dot at origin (0,0) using Matplotlib\n",
        "\n",
        "# Creates axes of plot referenced 'ax'\n",
        "ax = plt.axes()\n",
        "\n",
        "# Plots red dot at origin (0,0)\n",
        "ax.plot(0,0,'or')\n",
        "\n",
        "# Plots vector v as blue arrow starting at origin 0,0\n",
        "ax.arrow(0, 0, *v, color='b', linewidth=2.0, head_width=0.1, head_length=0.05)\n",
        "\n",
        "# Sets limit for plot for x-axis\n",
        "plt.xlim(-2,2)\n",
        "\n",
        "# Set major ticks for x-axis\n",
        "major_xticks = np.arange(-2, 3)\n",
        "ax.set_xticks(major_xticks)\n",
        "\n",
        "\n",
        "# Sets limit for plot for y-axis\n",
        "plt.ylim(-1, 2)\n",
        "\n",
        "# Set major ticks for y-axis\n",
        "major_yticks = np.arange(-1, 3)\n",
        "ax.set_yticks(major_yticks)\n",
        "\n",
        "# Creates gridlines for only major tick marks\n",
        "plt.grid(which='major')\n",
        "\n",
        "# Displays final plot\n",
        "plt.show()\n"
      ]
    },
    {
      "cell_type": "code",
      "source": [],
      "metadata": {
        "id": "ssDd-X_G0ilj"
      },
      "execution_count": null,
      "outputs": []
    },
    {
      "cell_type": "markdown",
      "metadata": {
        "id": "gupGgAhEyxfo"
      },
      "source": [
        "## Scaling a Vector using a Scalar\n",
        "For this part of the lab, we will plot the results of scaling vector $\\vec{v}$ by the scalar $a$. Both scalar $a$ and vector $\\vec{v}$ have been defined below.\n",
        "   \n",
        "\n",
        "$\\hspace{1cm}a = 3 $\n",
        "\n",
        "\n",
        "$\\hspace{1cm}\\vec{v} = \\begin{bmatrix} 1\\\\ 1\\end{bmatrix}$\n",
        "\n",
        "### TODO: Multiply Vector by Scalar and Plot Results\n",
        "For this part of the lab you will be creating vector $\\vec{av}$ and then adding to the plot as a dotted <span style=\"color:cyan; font-weight: bold\">cyan</span> colored vector.\n",
        "\n",
        "\n",
        "1. Multiply vector $\\vec{v}$ by scalar $a$ in the code below (see *__TODO 1.:__*).  \n",
        "&nbsp;\n",
        "\n",
        "2. Use the _ax.arrow(...)_ statement in the code below to add vector $\\vec{av}$ to the plot (see **__TODO 2.:__*). Adding _linestyle = 'dotted'_ and changing _color = 'c'_ in the _ax.arrow(...)_ statement will make vector $\\vec{av}$ a dotted cyan colored vector.  \n",
        "   \n"
      ]
    },
    {
      "cell_type": "code",
      "execution_count": null,
      "metadata": {
        "id": "ecnmPik4yxfp",
        "outputId": "06a69c48-a150-4e58-d15c-bdf7f5697dfa"
      },
      "outputs": [
        {
          "data": {
            "image/png": "[encoded data removed]",
            "text/plain": [
              "<matplotlib.figure.Figure at 0x10afe0550>"
            ]
          },
          "metadata": {},
          "output_type": "display_data"
        }
      ],
      "source": [
        "# Define vector v\n",
        "v = np.array([1,1])\n",
        "\n",
        "# Define scalar a\n",
        "a = 3\n",
        "\n",
        "# TODO 1.: Define vector av - as vector v multiplied by scalar a\n",
        "av = None\n",
        "\n",
        "# Plots vector v as blue arrow with red dot at origin (0,0) using Matplotlib\n",
        "\n",
        "# Creates axes of plot referenced 'ax'\n",
        "ax = plt.axes()\n",
        "\n",
        "# Plots red dot at origin (0,0)\n",
        "ax.plot(0,0,'or')\n",
        "\n",
        "# Plots vector v as blue arrow starting at origin 0,0\n",
        "ax.arrow(0, 0, *v, color='b', linewidth=2.5, head_width=0.30, head_length=0.35)\n",
        "\n",
        "# TODO 2.: Plot vector av as dotted (linestyle='dotted') vector of cyan color (color='c')\n",
        "# using ax.arrow() statement above as template for the plot\n",
        "\n",
        "\n",
        "\n",
        "# Sets limit for plot for x-axis\n",
        "plt.xlim(-2, 4)\n",
        "\n",
        "# Set major ticks for x-axis\n",
        "major_xticks = np.arange(-2, 4)\n",
        "ax.set_xticks(major_xticks)\n",
        "\n",
        "\n",
        "# Sets limit for plot for y-axis\n",
        "plt.ylim(-1, 4)\n",
        "\n",
        "# Set major ticks for y-axis\n",
        "major_yticks = np.arange(-1, 4)\n",
        "ax.set_yticks(major_yticks)\n",
        "\n",
        "# Creates gridlines for only major tick marks\n",
        "plt.grid(b=True, which='major')\n",
        "\n",
        "# Displays final plot\n",
        "plt.show()\n"
      ]
    },
    {
      "cell_type": "markdown",
      "metadata": {
        "id": "trKqjvadyxfp"
      },
      "source": [
        "### Solution to Scaling a Vector\n",
        "Your output from above should match the output below. If you need any help or want to check your answer, feel free to check out the solution notebook by clicking [here](vectors_lab_solution.ipynb#TODO:-Multiply-Vector-by-Scalar-and-Plot-Results).\n",
        "\n",
        "<img src=\"vectorsLab_ScalingAVector.png\" height=300 width=350 />\n",
        "\n",
        "\n",
        "\n",
        "### Solution Video for Scaling a Vector    \n",
        "The solution video can be found in the **Vectors Lab Solution** section. You may want to open another browser window to allow you to easily toggle between the Vector's Lab Jupyter Notebook and the solution videos for this lab.    "
      ]
    },
    {
      "cell_type": "markdown",
      "metadata": {
        "id": "gKhl0oSnyxfq"
      },
      "source": [
        "## Adding Two Vectors Together\n",
        "For this part of the lab, we will plot the result of adding vector $\\vec{w}$ to vector $\\vec{v}$. Both vectors $\\vec{v}$ and $\\vec{w}$, have been defined below.\n",
        "\n",
        "\n",
        "$\\hspace{1cm}\\vec{v} = \\begin{bmatrix} 1\\\\ 1\\end{bmatrix}$\n",
        "\n",
        "\n",
        "$\\hspace{1cm}\\vec{w} = \\begin{bmatrix} -2\\\\ 2\\end{bmatrix}$\n",
        "\n",
        "### Plotting Two Vectors\n",
        "The code and the plot that displays vectors $\\vec{v}$ and $\\vec{w}$ from origin (0,0) can be found below."
      ]
    },
    {
      "cell_type": "code",
      "execution_count": null,
      "metadata": {
        "id": "8VAmVAX1yxfq",
        "outputId": "29a1c9d8-c48b-4470-886c-5ccc5cd0eeb1"
      },
      "outputs": [
        {
          "data": {
            "image/png": "[encoded data removed]",
            "text/plain": [
              "<matplotlib.figure.Figure at 0x10afbd780>"
            ]
          },
          "metadata": {},
          "output_type": "display_data"
        }
      ],
      "source": [
        "# Define vector v\n",
        "v = np.array([1,1])\n",
        "\n",
        "# Define vector w\n",
        "w = np.array([-2,2])\n",
        "\n",
        "# Plots vector v(blue arrow) and vector w(cyan arrow) with red dot at origin (0,0)\n",
        "# using Matplotlib\n",
        "\n",
        "# Creates axes of plot referenced 'ax'\n",
        "ax = plt.axes()\n",
        "\n",
        "# Plots red dot at origin (0,0)\n",
        "ax.plot(0,0,'or')\n",
        "\n",
        "# Plots vector v as blue arrow starting at origin 0,0\n",
        "ax.arrow(0, 0, *v, color='b', linewidth=2.5, head_width=0.30, head_length=0.35)\n",
        "\n",
        "# Plots vector w as cyan arrow starting at origin 0,0\n",
        "ax.arrow(0, 0, *w, color='c', linewidth=2.5, head_width=0.30, head_length=0.35)\n",
        "\n",
        "# Sets limit for plot for x-axis\n",
        "plt.xlim(-3, 2)\n",
        "\n",
        "# Set major ticks for x-axis\n",
        "major_xticks = np.arange(-3, 2)\n",
        "ax.set_xticks(major_xticks)\n",
        "\n",
        "\n",
        "# Sets limit for plot for y-axis\n",
        "plt.ylim(-1, 4)\n",
        "\n",
        "# Set major ticks for y-axis\n",
        "major_yticks = np.arange(-1, 4)\n",
        "ax.set_yticks(major_yticks)\n",
        "\n",
        "# Creates gridlines for only major tick marks\n",
        "plt.grid(b=True, which='major')\n",
        "\n",
        "# Displays final plot\n",
        "plt.show()"
      ]
    },
    {
      "cell_type": "markdown",
      "metadata": {
        "id": "6fyaFbGKyxfr"
      },
      "source": [
        "### Vector Addition\n",
        "Below we display graphically, adding vector $\\vec{w}$ to vector $\\vec{v}$.\n",
        "\n",
        "### Plotting Vector Addition\n",
        "The code and plot that display adding vector $\\vec{w}$ to vector $\\vec{v}$ can be found below. Notice when we add vector $\\vec{w}$ to vector $\\vec{v}$, vector $\\vec{w}$'s origin is now (1,1).  Additionally, we have added _linestyle = 'dotted'_ and changed _color = 'c'_ in the _ax.arrow(...)_ statement to make vector $\\vec{w}$ a dotted cyan colored vector."
      ]
    },
    {
      "cell_type": "code",
      "execution_count": null,
      "metadata": {
        "id": "p4IEPIu3yxfr",
        "outputId": "c8e26d91-ef85-4753-8637-a30d06be89d4"
      },
      "outputs": [
        {
          "data": {
            "image/png": "[encoded data removed]",
            "text/plain": [
              "<matplotlib.figure.Figure at 0x110920c50>"
            ]
          },
          "metadata": {},
          "output_type": "display_data"
        }
      ],
      "source": [
        "# Define vector v\n",
        "v = np.array([1,1])\n",
        "\n",
        "# Define vector w\n",
        "w = np.array([-2,2])\n",
        "\n",
        "# Plot that graphically shows vector w(dotted cyan arrow) added to vector v(blue arrow)\n",
        "# using Matplotlib\n",
        "\n",
        "# Creates axes of plot referenced 'ax'\n",
        "ax = plt.axes()\n",
        "\n",
        "# Plots red dot at origin (0,0)\n",
        "ax.plot(0,0,'or')\n",
        "\n",
        "# Plots vector v as blue arrow starting at origin 0,0\n",
        "ax.arrow(0, 0, *v, color='b', linewidth=2.5, head_width=0.30, head_length=0.35)\n",
        "\n",
        "# Plots vector w as cyan arrow with origin defined by vector v\n",
        "ax.arrow(v[0], v[1], *w, linestyle='dotted', color='c', linewidth=2.5,\n",
        "         head_width=0.30, head_length=0.35)\n",
        "\n",
        "# Sets limit for plot for x-axis\n",
        "plt.xlim(-3, 2)\n",
        "\n",
        "# Set major ticks for x-axis\n",
        "major_xticks = np.arange(-3, 2)\n",
        "ax.set_xticks(major_xticks)\n",
        "\n",
        "\n",
        "# Sets limit for plot for y-axis\n",
        "plt.ylim(-1, 4)\n",
        "\n",
        "# Set major ticks for y-axis\n",
        "major_yticks = np.arange(-1, 4)\n",
        "ax.set_yticks(major_yticks)\n",
        "\n",
        "# Creates gridlines for only major tick marks\n",
        "plt.grid(b=True, which='major')\n",
        "\n",
        "# Displays final plot\n",
        "plt.show()"
      ]
    },
    {
      "cell_type": "markdown",
      "metadata": {
        "id": "8R-nn-Wkyxfs"
      },
      "source": [
        "### TODO: Adding Two Vectors and Plotting Results\n",
        "For this part of the lab you will be creating vector $\\vec{vw}$ and then adding it to the plot as a thicker width **black** colored vector.\n",
        "\n",
        "\n",
        "1. Create vector $\\vec{vw}$ by adding vector $\\vec{w}$ to vector $\\vec{v}$ in the code below (see *__TODO 1.:__*).  \n",
        "&nbsp;\n",
        "\n",
        "2. Use the _ax.arrow(...)_ statement in the code below to add vector $\\vec{vw}$ to the plot (see **__TODO 2.:__*). Changing _linewidth = 3.5_ and _color = 'k'_ in the _ax.arrow(...)_ statement will make vector $\\vec{vw}$ a thicker width black colored vector.  \n",
        "   "
      ]
    },
    {
      "cell_type": "code",
      "execution_count": null,
      "metadata": {
        "id": "hotgPiF-yxft",
        "outputId": "b391fbc9-d0c8-4de1-f0df-b39107694eb9"
      },
      "outputs": [
        {
          "data": {
            "image/png": "[encoded data removed]",
            "text/plain": [
              "<matplotlib.figure.Figure at 0x110a61e80>"
            ]
          },
          "metadata": {},
          "output_type": "display_data"
        }
      ],
      "source": [
        "# Define vector v\n",
        "v = np.array([1,1])\n",
        "\n",
        "# Define vector w\n",
        "w = np.array([-2,2])\n",
        "\n",
        "# TODO 1.: Define vector vw by adding vectors v and w\n",
        "vw = None\n",
        "\n",
        "# Plot that graphically shows vector vw (color='b') - which is the result of\n",
        "# adding vector w(dotted cyan arrow) to vector v(blue arrow) using Matplotlib\n",
        "\n",
        "# Creates axes of plot referenced 'ax'\n",
        "ax = plt.axes()\n",
        "\n",
        "# Plots red dot at origin (0,0)\n",
        "ax.plot(0,0,'or')\n",
        "\n",
        "# Plots vector v as blue arrow starting at origin 0,0\n",
        "ax.arrow(0, 0, *v, color='b', linewidth=2.5, head_width=0.30, head_length=0.35)\n",
        "\n",
        "# Plots vector w as cyan arrow with origin defined by vector v\n",
        "ax.arrow(v[0], v[1], *w, linestyle='dotted', color='c', linewidth=2.5,\n",
        "         head_width=0.30, head_length=0.35)\n",
        "\n",
        "# TODO 2.: Plot vector vw as black arrow (color='k') with 3.5 linewidth (linewidth=3.5)\n",
        "# starting vector v's origin (0,0)\n",
        "\n",
        "\n",
        "\n",
        "# Sets limit for plot for x-axis\n",
        "plt.xlim(-3, 2)\n",
        "\n",
        "# Set major ticks for x-axis\n",
        "major_xticks = np.arange(-3, 2)\n",
        "ax.set_xticks(major_xticks)\n",
        "\n",
        "\n",
        "# Sets limit for plot for y-axis\n",
        "plt.ylim(-1, 4)\n",
        "\n",
        "# Set major ticks for y-axis\n",
        "major_yticks = np.arange(-1, 4)\n",
        "ax.set_yticks(major_yticks)\n",
        "\n",
        "# Creates gridlines for only major tick marks\n",
        "plt.grid(b=True, which='major')\n",
        "\n",
        "# Displays final plot\n",
        "plt.show()"
      ]
    },
    {
      "cell_type": "markdown",
      "metadata": {
        "id": "T-lNze7yyxft"
      },
      "source": [
        "### Solution to Adding Two Vectors\n",
        "Your output from above should match the output below. If you need any help or want to check your answer, feel free to check out the solution notebook by clicking [here](vectors_lab_solution.ipynb#TODO:-Adding-Two-Vectors-and-Plotting-Results).\n",
        "\n",
        "<img src=\"vectorsLab_Adding2Vectors.png\" height=300 width=350>\n",
        "\n",
        "\n",
        "\n",
        "### Solution Video for Adding Two Vectors    \n",
        "The solution video can be found in the **Vectors Lab Solution** section. You may want to open another browser window to allow you to easily toggle between the Vector's Lab Jupyter Notebook and the solution videos for this lab.    \n"
      ]
    }
  ],
  "metadata": {
    "kernelspec": {
      "display_name": "Python 3",
      "language": "python",
      "name": "python3"
    },
    "language_info": {
      "codemirror_mode": {
        "name": "ipython",
        "version": 3
      },
      "file_extension": ".py",
      "mimetype": "text/x-python",
      "name": "python",
      "nbconvert_exporter": "python",
      "pygments_lexer": "ipython3",
      "version": "3.6.3"
    },
    "colab": {
      "provenance": [],
      "include_colab_link": true
    }
  },
  "nbformat": 4,
  "nbformat_minor": 0
}