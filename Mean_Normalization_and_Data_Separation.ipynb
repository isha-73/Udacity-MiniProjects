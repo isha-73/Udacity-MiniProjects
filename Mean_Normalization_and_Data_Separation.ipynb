{
  "cells": [
    {
      "cell_type": "markdown",
      "metadata": {
        "id": "view-in-github",
        "colab_type": "text"
      },
      "source": [
        "<a href=\"https://colab.research.google.com/github/isha-73/Udacity-MiniProjects/blob/main/Mean_Normalization_and_Data_Separation.ipynb\" target=\"_parent\"><img src=\"https://colab.research.google.com/assets/colab-badge.svg\" alt=\"Open In Colab\"/></a>"
      ]
    },
    {
      "cell_type": "markdown",
      "metadata": {
        "id": "RJQcKXo-AySZ"
      },
      "source": [
        "# Mean Normalization\n",
        "\n",
        "In machine learning we use large amounts of data to train our models. Some machine learning algorithms may require that the data is *normalized* in order to work correctly. The idea of normalization, also known as *feature scaling*, is to ensure that all the data is on a similar scale, *i.e.* that all the data takes on a similar range of values. For example, we might have a dataset that has values between 0 and 5,000. By normalizing the data we can make the range of values be between 0 and 1.\n",
        "\n",
        "In this lab, you will be performing a different kind of feature scaling known as *mean normalization*. Mean normalization will scale the data, but instead of making the values be between 0 and 1, it will distribute the values evenly in some small interval around zero. For example, if we have a dataset that has values between 0 and 5,000, after mean normalization the range of values will be distributed in some small range around 0, for example between -3 to 3. Because the range of values are distributed evenly around zero, this guarantees that the average (mean) of all elements will be zero. Therefore, when you perform *mean normalization* your data will not only be scaled but it will also have an average of zero.\n",
        "\n",
        "# To Do:\n",
        "\n",
        "You will start by importing NumPy and creating a rank 2 ndarray of random integers between 0 and 5,000 (inclusive) with 1000 rows and 20 columns. This array will simulate a dataset with a wide range of values. Fill in the code below"
      ]
    },
    {
      "cell_type": "code",
      "execution_count": 1,
      "metadata": {
        "colab": {
          "base_uri": "https://localhost:8080/"
        },
        "id": "f2dViNk-AySc",
        "outputId": "439ff61e-0669-49a1-dfc6-a33b987a2d84"
      },
      "outputs": [
        {
          "output_type": "stream",
          "name": "stdout",
          "text": [
            "Shape of X ->  (1000, 20)\n",
            "[[4004  450  735 ...  579 2642 4291]\n",
            " [4074 1248 3491 ... 1285  479 3888]\n",
            " [4309 2052 2104 ... 3178 2627  128]\n",
            " ...\n",
            " [4690   65 1448 ... 1417 2302 3372]\n",
            " [2124  429  433 ... 1210 3718   56]\n",
            " [ 710 2106 4609 ... 1521 1954  512]]\n"
          ]
        }
      ],
      "source": [
        "# import NumPy into Python\n",
        "import numpy as np\n",
        "\n",
        "\n",
        "# Create a 1000 x 20 ndarray with random integers in the half-open interval [0, 5001).\n",
        "X = np.random.randint(0,5001,size=(1000, 20))\n",
        "\n",
        "# print the shape of X\n",
        "print(\"Shape of X -> \", X.shape)\n",
        "print(X)\n"
      ]
    },
    {
      "cell_type": "markdown",
      "metadata": {
        "id": "Z4UJTBQwAySe"
      },
      "source": [
        "Now that you created the array we will mean normalize it. We will perform mean normalization using the following equation:\n",
        "\n",
        "$\\mbox{Norm_Col}_i = \\frac{\\mbox{Col}_i - \\mu_i}{\\sigma_i}$\n",
        "\n",
        "where $\\mbox{Col}_i$ is the $i$th column of $X$, $\\mu_i$ is average of the values in the $i$th column of $X$, and $\\sigma_i$ is the standard deviation of the values in the $i$th column of $X$. In other words, mean normalization is performed by subtracting from each column of $X$ the average of its values, and then by dividing by the standard deviation of its values. In the space below, you will first calculate the average and standard deviation of each column of $X$."
      ]
    },
    {
      "cell_type": "code",
      "execution_count": 2,
      "metadata": {
        "id": "Exec4YRzAySe"
      },
      "outputs": [],
      "source": [
        "# Average of the values in each column of X\n",
        "ave_cols =np.mean(X, axis=0)\n",
        "\n",
        "# Standard Deviation of the values in each column of X\n",
        "std_cols =np.std(X,axis=0)"
      ]
    },
    {
      "cell_type": "markdown",
      "metadata": {
        "id": "KcZ5B3ibAySf"
      },
      "source": [
        "If you have done the above calculations correctly, then `ave_cols` and `std_cols`, should both be vectors with shape `(20,)` since $X$ has 20 columns. You can verify this by filling the code below:"
      ]
    },
    {
      "cell_type": "code",
      "execution_count": 3,
      "metadata": {
        "colab": {
          "base_uri": "https://localhost:8080/"
        },
        "id": "9hz9tBFTAySf",
        "outputId": "e1954d3d-16f1-4bb8-d5f9-f3be911c96fe"
      },
      "outputs": [
        {
          "output_type": "stream",
          "name": "stdout",
          "text": [
            "(20,)\n",
            "(20,)\n"
          ]
        }
      ],
      "source": [
        "# Print the shape of ave_cols\n",
        "print(ave_cols.shape)\n",
        "\n",
        "\n",
        "# Print the shape of std_cols\n",
        "print(std_cols.shape)\n"
      ]
    },
    {
      "cell_type": "markdown",
      "metadata": {
        "id": "HN_uy8OIAySf"
      },
      "source": [
        "You can now take advantage of Broadcasting to calculate the mean normalized version of $X$ in just one line of code using the equation above. Fill in the code below"
      ]
    },
    {
      "cell_type": "code",
      "execution_count": 4,
      "metadata": {
        "colab": {
          "base_uri": "https://localhost:8080/"
        },
        "id": "4eXa5vPCAySf",
        "outputId": "0087e892-833b-4389-e83e-d951234397ca"
      },
      "outputs": [
        {
          "output_type": "stream",
          "name": "stdout",
          "text": [
            "[[ 1.04494561 -1.36748068 -1.31716391 ... -1.33099386  0.09221348\n",
            "   1.24626759]\n",
            " [ 1.09456491 -0.82787759  0.64255648 ... -0.83900157 -1.41605361\n",
            "   0.96648048]\n",
            " [ 1.26114399 -0.28421733 -0.34370338 ...  0.4801789   0.08175393\n",
            "  -1.64394019]\n",
            " ...\n",
            " [ 1.53121476 -1.6278155  -0.81016803 ... -0.74701434 -0.14486965\n",
            "   0.6082419 ]\n",
            " [-0.28768703 -1.38168076 -1.53190831 ... -0.89126704  0.84251186\n",
            "  -1.69392697]\n",
            " [-1.28999691 -0.24770284  1.43753739 ... -0.67453955 -0.3875312\n",
            "  -1.37734403]]\n"
          ]
        }
      ],
      "source": [
        "# Mean normalize X\n",
        "X_norm = (X - ave_cols) / std_cols\n",
        "print(X_norm)"
      ]
    },
    {
      "cell_type": "markdown",
      "metadata": {
        "id": "sGHSGeMIAySg"
      },
      "source": [
        "If you have performed the mean normalization correctly, then the average of all the elements in $X_{\\tiny{\\mbox{norm}}}$ should be close to zero, and they should be evenly distributed in some small interval around zero. You can verify this by filing the code below:"
      ]
    },
    {
      "cell_type": "code",
      "execution_count": null,
      "metadata": {
        "colab": {
          "base_uri": "https://localhost:8080/"
        },
        "id": "nPPpAoQkAySg",
        "outputId": "94df0f90-7ab3-4355-be55-b3508d74c8ca"
      },
      "outputs": [
        {
          "output_type": "stream",
          "name": "stdout",
          "text": [
            "7.105427357601002e-19\n",
            "-1.7219475965677618\n",
            "1.7299374529104967\n"
          ]
        }
      ],
      "source": [
        "# Print the average of all the values of X_norm\n",
        "print(np.mean(X_norm))\n",
        "\n",
        "# Print the average of the minimum value in each column of X_norm\n",
        "print(X_norm.min(axis = 0).mean())\n",
        "\n",
        "\n",
        "# Print the average of the maximum value in each column of X_norm\n",
        "print(X_norm.max(axis = 0).mean())"
      ]
    },
    {
      "cell_type": "markdown",
      "metadata": {
        "id": "sW19XZSvAySg"
      },
      "source": [
        "You should note that since $X$ was created using random integers, the above values will vary.\n",
        "\n",
        "# Data Separation\n",
        "\n",
        "After the data has been mean normalized, it is customary in machine learnig to split our dataset into three sets:\n",
        "\n",
        "1. A Training Set\n",
        "2. A Cross Validation Set\n",
        "3. A Test Set\n",
        "\n",
        "The dataset is usually divided such that the Training Set contains 60% of the data, the Cross Validation Set contains 20% of the data, and the Test Set contains 20% of the data.\n",
        "\n",
        "In this part of the lab you will separate `X_norm` into a Training Set, Cross Validation Set, and a Test Set. Each data set will contain rows of `X_norm` chosen at random, making sure that we don't pick the same row twice. This will guarantee that all the rows of `X_norm` are chosen and randomly distributed among the three new sets.\n",
        "\n",
        "You will start by creating a rank 1 ndarray that contains a random permutation of the row indices of `X_norm`. You can do this by using the `np.random.permutation()` function. The `np.random.permutation(N)` function creates a random permutation of integers from 0 to `N - 1`. Let's see an example:"
      ]
    },
    {
      "cell_type": "code",
      "execution_count": null,
      "metadata": {
        "colab": {
          "base_uri": "https://localhost:8080/"
        },
        "id": "wKx0n20YAySh",
        "outputId": "7f17167a-b6e4-42f9-a039-2130264a4390"
      },
      "outputs": [
        {
          "output_type": "execute_result",
          "data": {
            "text/plain": [
              "array([3, 4, 1, 0, 2])"
            ]
          },
          "metadata": {},
          "execution_count": 13
        }
      ],
      "source": [
        "# We create a random permutation of integers 0 to 4\n",
        "np.random.permutation(5)"
      ]
    },
    {
      "cell_type": "markdown",
      "metadata": {
        "id": "AoxiovZJAySh"
      },
      "source": [
        "# To Do\n",
        "\n",
        "In the space below create a rank 1 ndarray that contains a random permutation of the row indices of `X_norm`. You can do this in one line of code by extracting the number of rows of `X_norm` using the `shape` attribute and then passing it to the  `np.random.permutation()` function. Remember the `shape` attribute returns a tuple with two numbers in the form `(rows,columns)`."
      ]
    },
    {
      "cell_type": "code",
      "execution_count": 5,
      "metadata": {
        "id": "yLWHmKSzAySh"
      },
      "outputs": [],
      "source": [
        "# Create a rank 1 ndarray that contains a random permutation of the row indices of `X_norm`\n",
        "row_indices = np.random.permutation(X_norm.shape[0])"
      ]
    },
    {
      "cell_type": "markdown",
      "metadata": {
        "id": "KQGgN8qaAySh"
      },
      "source": [
        "Now you can create the three datasets using the `row_indices` ndarray to select the rows that will go into each dataset. Rememeber that the Training Set contains 60% of the data, the Cross Validation Set contains 20% of the data, and the Test Set contains 20% of the data. Each set requires just one line of code to create. Fill in the code below"
      ]
    },
    {
      "cell_type": "code",
      "execution_count": 6,
      "metadata": {
        "id": "p_rFThsMAySi"
      },
      "outputs": [],
      "source": [
        "# Make any necessary calculations.\n",
        "# You can save your calculations into variables to use later.\n",
        "\n",
        "# calculate sixty percent and eighty percent of rows in X_norm\n",
        "\n",
        "sixPer = int(len(X_norm)* 0.6)\n",
        "eigPer = int(len(X_norm)* 0.8)\n",
        "\n",
        "# Create a Training Set\n",
        "\n",
        "#using slicing technique\n",
        "X_train = X_norm[row_indices[:sixPer],:]\n",
        "\n",
        "# Create a Cross Validation Set\n",
        "X_crossVal =  X_norm[row_indices[sixPer:eigPer],:]\n",
        "\n",
        "# Create a Test Set\n",
        "X_test = X_norm[row_indices[eigPer: ], :]"
      ]
    },
    {
      "cell_type": "markdown",
      "metadata": {
        "id": "NF_FXxFIAySi"
      },
      "source": [
        "If you performed the above calculations correctly, then `X_tain` should have 600 rows and 20 columns, `X_crossVal` should have 200 rows and 20 columns, and `X_test` should have 200 rows and 20 columns. You can verify this by filling the code below:"
      ]
    },
    {
      "cell_type": "code",
      "execution_count": 7,
      "metadata": {
        "colab": {
          "base_uri": "https://localhost:8080/"
        },
        "id": "53nw0c3DAySi",
        "outputId": "81edb4be-cb52-4ac4-cb46-bf5f06431278"
      },
      "outputs": [
        {
          "output_type": "stream",
          "name": "stdout",
          "text": [
            "shape of X_train ->  (600, 20)\n",
            "shape of X_crossVal -> (200, 20)\n",
            "shape of X_test ->  (200, 20)\n"
          ]
        }
      ],
      "source": [
        "# Print the shape of X_train\n",
        "print(\"shape of X_train -> \", X_train.shape)\n",
        "\n",
        "# Print the shape of X_crossVal\n",
        "print(\"shape of X_crossVal ->\", X_crossVal.shape)\n",
        "\n",
        "# Print the shape of X_test\n",
        "print(\"shape of X_test -> \",X_test.shape)\n"
      ]
    },
    {
      "cell_type": "code",
      "execution_count": null,
      "metadata": {
        "id": "xR2DEH15AySj"
      },
      "outputs": [],
      "source": []
    }
  ],
  "metadata": {
    "kernelspec": {
      "display_name": "Python 3",
      "language": "python",
      "name": "python3"
    },
    "language_info": {
      "codemirror_mode": {
        "name": "ipython",
        "version": 3
      },
      "file_extension": ".py",
      "mimetype": "text/x-python",
      "name": "python",
      "nbconvert_exporter": "python",
      "pygments_lexer": "ipython3",
      "version": "3.6.3"
    },
    "colab": {
      "provenance": [],
      "include_colab_link": true
    }
  },
  "nbformat": 4,
  "nbformat_minor": 0
}